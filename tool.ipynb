{
 "cells": [
  {
   "cell_type": "code",
   "execution_count": 2,
   "id": "f9299aea-1a64-4a27-bb8a-4992fa02c2ce",
   "metadata": {},
   "outputs": [
    {
     "name": "stdout",
     "output_type": "stream",
     "text": [
      "1555\n"
     ]
    }
   ],
   "source": [
    "import os\n",
    "num = 0\n",
    "path = 'datasets\\\\Val_main'\n",
    "for c_type in os.listdir(path):\n",
    "    num += len(os.listdir(os.path.join(path,c_type)))\n",
    "print(num)"
   ]
  },
  {
   "cell_type": "code",
   "execution_count": 5,
   "id": "c9f20e20-34de-4a53-bbdb-b94477eb6647",
   "metadata": {},
   "outputs": [
    {
     "name": "stdout",
     "output_type": "stream",
     "text": [
      "(512, 512, 3)\n"
     ]
    }
   ],
   "source": [
    "import cv2 as cv\n",
    "import os\n",
    "path = 'datasets\\\\train\\\\Apple_iPhone6Plus'\n",
    "lis = os.listdir(path)\n",
    "img=cv.imread(os.path.join(path,lis[1]))\n",
    "print(img.shape)"
   ]
  }
 ],
 "metadata": {
  "kernelspec": {
   "display_name": "Python 3 (ipykernel)",
   "language": "python",
   "name": "python3"
  },
  "language_info": {
   "codemirror_mode": {
    "name": "ipython",
    "version": 3
   },
   "file_extension": ".py",
   "mimetype": "text/x-python",
   "name": "python",
   "nbconvert_exporter": "python",
   "pygments_lexer": "ipython3",
   "version": "3.8.3"
  }
 },
 "nbformat": 4,
 "nbformat_minor": 5
}
