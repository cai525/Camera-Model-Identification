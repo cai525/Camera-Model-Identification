{
 "cells": [
  {
   "cell_type": "code",
   "execution_count": 1,
   "id": "b0f8abbb-2ef5-4c35-bf17-6cf4842fdf61",
   "metadata": {},
   "outputs": [],
   "source": [
    "from tensorflow.keras.layers import Conv2D,MaxPooling2D,BatchNormalization,ReLU,Flatten,Dense,Dropout\n",
    "from tensorflow.keras.models import Sequential\n",
    "import tensorflow.keras.optimizers as optimizers\n",
    "\n",
    "MODEL_LOSS = 'categorical_crossentropy'\n",
    "MODEL_METRIC = 'categorical_accuracy'\n",
    "\n",
    "def InitialiazeModel(lr):\n",
    "    \"\"\"\n",
    "    head_only:选择是否只训练顶端（即自定义的全连接层）\n",
    "    weights:选择是否从外部导入权重\n",
    "    model:模型名称\n",
    "    lr:学习率：默认为0.001\n",
    "    \"\"\"\n",
    "    model = Sequential()\n",
    "    in_shape=(512, 512, 3)\n",
    "    model.add(Conv2D(64, (5, 5),kernel_initializer='he_uniform', strides=(3,3),padding='valid', input_shape=in_shape))\n",
    "    model.add(BatchNormalization(momentum=0.99)) # 根据batch_size修改\n",
    "    model.add(ReLU())\n",
    "    model.add(MaxPooling2D((3, 3),strides=1,padding='same'))\n",
    "    # repeat\n",
    "    model.add(Conv2D(64, (5, 5),kernel_initializer='he_uniform', strides=(3,3),padding='valid'))\n",
    "    model.add(BatchNormalization(momentum=0.99)) # 根据batch_size修改\n",
    "    model.add(ReLU())\n",
    "    model.add(MaxPooling2D((3, 3),strides=1,padding='same'))\n",
    "    # repeat\n",
    "    model.add(Conv2D(64, (5, 5),kernel_initializer='he_uniform', strides=(3,3),padding='valid'))\n",
    "    model.add(BatchNormalization(momentum=0.99)) # 根据batch_size修改\n",
    "    model.add(ReLU())\n",
    "    model.add(MaxPooling2D((3, 3),strides=1,padding='same'))\n",
    "    \n",
    "    model.add(Flatten())\n",
    "    model.add(Dense(1024, activation='relu', kernel_initializer='he_uniform'))\n",
    "    model.add(Dropout(0.2))\n",
    "    model.add(Dense(256, activation='relu', kernel_initializer='he_uniform'))\n",
    "    model.add(Dropout(0.2))\n",
    "    model.add(Dense(10, activation='softmax'))\n",
    "    \n",
    "    # ========================= 优化器 =======================================\n",
    "    MODEL_OPTIMIZER = optimizers.SGD(lr=lr, momentum=0.95, nesterov=True)\n",
    "    # MODEL_OPTIMIZER = optimizers.Adam()\n",
    "    # 编译模型\n",
    "    model.compile(loss=MODEL_LOSS, optimizer=MODEL_OPTIMIZER, metrics=[MODEL_METRIC])\n",
    "    # model.summary()\n",
    "    return model"
   ]
  },
  {
   "cell_type": "code",
   "execution_count": 2,
   "id": "bb58ced1-2310-4419-afbe-14425d70b7d2",
   "metadata": {},
   "outputs": [
    {
     "name": "stdout",
     "output_type": "stream",
     "text": [
      "Model: \"sequential\"\n",
      "_________________________________________________________________\n",
      "Layer (type)                 Output Shape              Param #   \n",
      "=================================================================\n",
      "conv2d (Conv2D)              (None, 170, 170, 64)      4864      \n",
      "_________________________________________________________________\n",
      "batch_normalization (BatchNo (None, 170, 170, 64)      256       \n",
      "_________________________________________________________________\n",
      "re_lu (ReLU)                 (None, 170, 170, 64)      0         \n",
      "_________________________________________________________________\n",
      "max_pooling2d (MaxPooling2D) (None, 170, 170, 64)      0         \n",
      "_________________________________________________________________\n",
      "conv2d_1 (Conv2D)            (None, 56, 56, 64)        102464    \n",
      "_________________________________________________________________\n",
      "batch_normalization_1 (Batch (None, 56, 56, 64)        256       \n",
      "_________________________________________________________________\n",
      "re_lu_1 (ReLU)               (None, 56, 56, 64)        0         \n",
      "_________________________________________________________________\n",
      "max_pooling2d_1 (MaxPooling2 (None, 56, 56, 64)        0         \n",
      "_________________________________________________________________\n",
      "conv2d_2 (Conv2D)            (None, 18, 18, 64)        102464    \n",
      "_________________________________________________________________\n",
      "batch_normalization_2 (Batch (None, 18, 18, 64)        256       \n",
      "_________________________________________________________________\n",
      "re_lu_2 (ReLU)               (None, 18, 18, 64)        0         \n",
      "_________________________________________________________________\n",
      "max_pooling2d_2 (MaxPooling2 (None, 18, 18, 64)        0         \n",
      "_________________________________________________________________\n",
      "flatten (Flatten)            (None, 20736)             0         \n",
      "_________________________________________________________________\n",
      "dense (Dense)                (None, 1024)              21234688  \n",
      "_________________________________________________________________\n",
      "dropout (Dropout)            (None, 1024)              0         \n",
      "_________________________________________________________________\n",
      "dense_1 (Dense)              (None, 256)               262400    \n",
      "_________________________________________________________________\n",
      "dropout_1 (Dropout)          (None, 256)               0         \n",
      "_________________________________________________________________\n",
      "dense_2 (Dense)              (None, 10)                2570      \n",
      "=================================================================\n",
      "Total params: 21,710,218\n",
      "Trainable params: 21,709,834\n",
      "Non-trainable params: 384\n",
      "_________________________________________________________________\n"
     ]
    },
    {
     "data": {
      "text/plain": [
       "<tensorflow.python.keras.engine.sequential.Sequential at 0x134bf940a90>"
      ]
     },
     "execution_count": 2,
     "metadata": {},
     "output_type": "execute_result"
    }
   ],
   "source": [
    "InitialiazeModel(0.001)"
   ]
  },
  {
   "cell_type": "code",
   "execution_count": 2,
   "id": "f90adc89-9b0f-41e3-ab8f-bfed853245c9",
   "metadata": {},
   "outputs": [
    {
     "name": "stdout",
     "output_type": "stream",
     "text": [
      "['Apple_iPhone6Plus', 'Canon_PowerShotA640', 'Huawei_P9', 'Lenovo_P70A', 'Microsoft_Lumia640LTE', 'Nikon_D70s', 'OnePlus_A3003', 'Samsung_GalaxyS5', 'Sony_DSC-W170', 'Xiaomi_RedmiNote3']\n"
     ]
    }
   ],
   "source": [
    "import os\n",
    "category = os.listdir(\"datasets\\\\Train\")\n",
    "category.remove('.ipynb_checkpoints')\n",
    "print(category)\n"
   ]
  },
  {
   "cell_type": "markdown",
   "id": "425ec4d3-8a45-49e9-a579-09648bee1a49",
   "metadata": {},
   "source": [
    "第一次训练"
   ]
  },
  {
   "cell_type": "code",
   "execution_count": 3,
   "id": "2b7fea78-5903-4310-a6d4-ebb242848756",
   "metadata": {},
   "outputs": [],
   "source": [
    "from tensorflow.keras.preprocessing.image import ImageDataGenerator\n",
    "from tensorflow.keras.callbacks import ModelCheckpoint,EarlyStopping,TensorBoard,ReduceLROnPlateau\n",
    "from math import ceil\n",
    "\n",
    "train_path = \"datasets\\\\Train\"\n",
    "val_path = \"datasets\\\\Val_main\"\n",
    "BATCH_SIZE = 32\n",
    "train_sample_num = 30000\n",
    "val_sample_num = 1555"
   ]
  },
  {
   "cell_type": "code",
   "execution_count": 4,
   "id": "b96e1bae-0a37-40c1-858d-48ec9ac5e742",
   "metadata": {},
   "outputs": [
    {
     "name": "stdout",
     "output_type": "stream",
     "text": [
      "Found 30150 images belonging to 10 classes.\n",
      "Found 1555 images belonging to 10 classes.\n"
     ]
    }
   ],
   "source": [
    "# 训练集生成器\n",
    "data_gen = ImageDataGenerator()\n",
    "train_it = data_gen.flow_from_directory(directory=train_path,target_size=(512,512),\n",
    "                                        classes=category,class_mode= \"categorical\",\n",
    "                                        batch_size=BATCH_SIZE)\n",
    "# 验证集生成器\n",
    "data_gen = ImageDataGenerator()\n",
    "val_it = data_gen.flow_from_directory(directory=val_path,target_size=(512,512),\n",
    "                                        classes=category,class_mode= \"categorical\",\n",
    "                                        batch_size=BATCH_SIZE)"
   ]
  },
  {
   "cell_type": "code",
   "execution_count": 4,
   "id": "c5e85117-6913-4d50-9f2d-8e44bd703f1d",
   "metadata": {},
   "outputs": [
    {
     "name": "stdout",
     "output_type": "stream",
     "text": [
      "Found 30150 images belonging to 10 classes.\n",
      "Found 1555 images belonging to 10 classes.\n",
      "WARNING:tensorflow:From C:\\Users\\44332\\AppData\\Local\\Temp\\ipykernel_10168\\3214591412.py:32: Model.fit_generator (from tensorflow.python.keras.engine.training) is deprecated and will be removed in a future version.\n",
      "Instructions for updating:\n",
      "Please use Model.fit, which supports generators.\n",
      "Epoch 1/100\n",
      "  1/938 [..............................] - ETA: 0s - loss: 3.7022 - categorical_accuracy: 0.0625WARNING:tensorflow:From F:\\anaconda\\envs\\tensorflow2.3.1\\lib\\site-packages\\tensorflow\\python\\ops\\summary_ops_v2.py:1277: stop (from tensorflow.python.eager.profiler) is deprecated and will be removed after 2020-07-01.\n",
      "Instructions for updating:\n",
      "use `tf.profiler.experimental.stop` instead.\n",
      "  2/938 [..............................] - ETA: 1:43 - loss: 5.5188 - categorical_accuracy: 0.1094WARNING:tensorflow:Callbacks method `on_train_batch_end` is slow compared to the batch time (batch time: 0.0720s vs `on_train_batch_end` time: 0.1490s). Check your callbacks.\n",
      "938/938 [==============================] - 238s 254ms/step - loss: 2.2788 - categorical_accuracy: 0.1648 - val_loss: 2.2316 - val_categorical_accuracy: 0.1961\n",
      "Epoch 2/100\n",
      "938/938 [==============================] - 262s 279ms/step - loss: 1.9771 - categorical_accuracy: 0.2664 - val_loss: 2.1838 - val_categorical_accuracy: 0.2244\n",
      "Epoch 3/100\n",
      "938/938 [==============================] - 266s 284ms/step - loss: 1.7326 - categorical_accuracy: 0.3740 - val_loss: 7.8949 - val_categorical_accuracy: 0.2122\n",
      "Epoch 4/100\n",
      "938/938 [==============================] - 252s 268ms/step - loss: 1.5091 - categorical_accuracy: 0.4671 - val_loss: 1.7337 - val_categorical_accuracy: 0.3801\n",
      "Epoch 5/100\n",
      "938/938 [==============================] - 249s 266ms/step - loss: 1.3439 - categorical_accuracy: 0.5300 - val_loss: 1.6205 - val_categorical_accuracy: 0.4341\n",
      "Epoch 6/100\n",
      "938/938 [==============================] - 245s 261ms/step - loss: 1.1803 - categorical_accuracy: 0.5874 - val_loss: 1.8704 - val_categorical_accuracy: 0.4219\n",
      "Epoch 7/100\n",
      "938/938 [==============================] - 249s 266ms/step - loss: 1.0661 - categorical_accuracy: 0.6312 - val_loss: 1.7338 - val_categorical_accuracy: 0.4514\n",
      "Epoch 8/100\n",
      "938/938 [==============================] - 252s 269ms/step - loss: 0.9586 - categorical_accuracy: 0.6714 - val_loss: 2.5165 - val_categorical_accuracy: 0.3762\n",
      "Epoch 9/100\n",
      "938/938 [==============================] - 247s 264ms/step - loss: 0.7134 - categorical_accuracy: 0.7556 - val_loss: 1.2008 - val_categorical_accuracy: 0.5826\n",
      "Epoch 10/100\n",
      "938/938 [==============================] - 245s 261ms/step - loss: 0.6438 - categorical_accuracy: 0.7829 - val_loss: 1.1562 - val_categorical_accuracy: 0.6367\n",
      "Epoch 11/100\n",
      "938/938 [==============================] - 247s 263ms/step - loss: 0.5809 - categorical_accuracy: 0.8001 - val_loss: 1.2418 - val_categorical_accuracy: 0.6058\n",
      "Epoch 12/100\n",
      "938/938 [==============================] - 257s 274ms/step - loss: 0.5373 - categorical_accuracy: 0.8160 - val_loss: 1.2467 - val_categorical_accuracy: 0.6212\n",
      "Epoch 13/100\n",
      "938/938 [==============================] - 256s 272ms/step - loss: 0.5036 - categorical_accuracy: 0.8287 - val_loss: 1.2379 - val_categorical_accuracy: 0.6206\n",
      "Epoch 14/100\n",
      "938/938 [==============================] - 254s 271ms/step - loss: 0.3877 - categorical_accuracy: 0.8694 - val_loss: 1.0951 - val_categorical_accuracy: 0.6643\n",
      "Epoch 15/100\n",
      "938/938 [==============================] - 251s 267ms/step - loss: 0.3482 - categorical_accuracy: 0.8799 - val_loss: 1.0364 - val_categorical_accuracy: 0.6817\n",
      "Epoch 16/100\n",
      "938/938 [==============================] - 255s 271ms/step - loss: 0.3460 - categorical_accuracy: 0.8826 - val_loss: 0.9501 - val_categorical_accuracy: 0.7042\n",
      "Epoch 17/100\n",
      "938/938 [==============================] - 259s 276ms/step - loss: 0.3252 - categorical_accuracy: 0.8894 - val_loss: 1.0533 - val_categorical_accuracy: 0.6772\n",
      "Epoch 18/100\n",
      "938/938 [==============================] - 253s 270ms/step - loss: 0.3123 - categorical_accuracy: 0.8944 - val_loss: 0.9845 - val_categorical_accuracy: 0.7145\n",
      "Epoch 19/100\n",
      "938/938 [==============================] - 252s 269ms/step - loss: 0.3001 - categorical_accuracy: 0.9002 - val_loss: 0.8468 - val_categorical_accuracy: 0.7402\n",
      "Epoch 20/100\n",
      "938/938 [==============================] - 251s 268ms/step - loss: 0.2828 - categorical_accuracy: 0.9052 - val_loss: 0.9290 - val_categorical_accuracy: 0.7389\n",
      "Epoch 21/100\n",
      "938/938 [==============================] - 253s 270ms/step - loss: 0.2713 - categorical_accuracy: 0.9075 - val_loss: 1.1662 - val_categorical_accuracy: 0.6624\n",
      "Epoch 22/100\n",
      "938/938 [==============================] - 254s 270ms/step - loss: 0.2704 - categorical_accuracy: 0.9092 - val_loss: 1.2184 - val_categorical_accuracy: 0.6752\n",
      "Epoch 23/100\n",
      "938/938 [==============================] - 250s 267ms/step - loss: 0.2031 - categorical_accuracy: 0.9290 - val_loss: 0.9341 - val_categorical_accuracy: 0.7370\n",
      "Epoch 24/100\n",
      "938/938 [==============================] - 251s 268ms/step - loss: 0.1955 - categorical_accuracy: 0.9351 - val_loss: 0.9989 - val_categorical_accuracy: 0.7293\n",
      "Epoch 00024: early stopping\n"
     ]
    }
   ],
   "source": [
    "# 训练\n",
    "model = InitialiazeModel(lr=0.01)\n",
    "weights_path_name = \"model_weight\\\\alex\\\\alex{epoch:02d}.hdf5\" \n",
    "callbacks = [ModelCheckpoint(weights_path_name, monitor='val_loss', save_best_only=True, verbose=0,\n",
    "                                             save_weights_only=True),\n",
    "             EarlyStopping(monitor='val_loss', patience=5, verbose=0.001),\n",
    "             TensorBoard(log_dir='train_log\\\\Alex',update_freq='epoch'),\n",
    "             ReduceLROnPlateau(factor=0.5,\n",
    "                               patience=3, \n",
    "                              min_lr=0.001)]\n",
    "history1 = model.fit_generator(generator = train_it,\n",
    "                    validation_data = val_it,\n",
    "                    epochs = 100,\n",
    "                    steps_per_epoch=ceil(train_sample_num/ BATCH_SIZE),\n",
    "                    validation_steps=ceil(val_sample_num/ BATCH_SIZE),\n",
    "                   max_queue_size=20,\n",
    "                   callbacks=callbacks,\n",
    "                   verbose = 1)"
   ]
  },
  {
   "cell_type": "markdown",
   "id": "fe9064f5-b71f-48f7-b945-603b4b5d20b8",
   "metadata": {},
   "source": [
    "减小学习率继续"
   ]
  },
  {
   "cell_type": "code",
   "execution_count": null,
   "id": "5ccf4198-b21d-409b-88b0-da90f2a48df4",
   "metadata": {},
   "outputs": [
    {
     "name": "stdout",
     "output_type": "stream",
     "text": [
      "WARNING:tensorflow:From C:\\Users\\44332\\AppData\\Local\\Temp\\ipykernel_3252\\3510493758.py:18: Model.fit_generator (from tensorflow.python.keras.engine.training) is deprecated and will be removed in a future version.\n",
      "Instructions for updating:\n",
      "Please use Model.fit, which supports generators.\n",
      "Epoch 1/100\n",
      "  1/938 [..............................] - ETA: 0s - loss: 0.1994 - categorical_accuracy: 0.9375WARNING:tensorflow:From F:\\anaconda\\envs\\tensorflow2.3.1\\lib\\site-packages\\tensorflow\\python\\ops\\summary_ops_v2.py:1277: stop (from tensorflow.python.eager.profiler) is deprecated and will be removed after 2020-07-01.\n",
      "Instructions for updating:\n",
      "use `tf.profiler.experimental.stop` instead.\n",
      "  2/938 [..............................] - ETA: 1:37 - loss: 0.3500 - categorical_accuracy: 0.9062WARNING:tensorflow:Callbacks method `on_train_batch_end` is slow compared to the batch time (batch time: 0.0730s vs `on_train_batch_end` time: 0.1360s). Check your callbacks.\n",
      "938/938 [==============================] - 246s 262ms/step - loss: 0.2655 - categorical_accuracy: 0.9107 - val_loss: 0.8815 - val_categorical_accuracy: 0.7395\n",
      "Epoch 2/100\n",
      "938/938 [==============================] - 248s 264ms/step - loss: 0.2548 - categorical_accuracy: 0.9146 - val_loss: 0.8310 - val_categorical_accuracy: 0.7479\n",
      "Epoch 3/100\n",
      "938/938 [==============================] - 257s 274ms/step - loss: 0.2395 - categorical_accuracy: 0.9184 - val_loss: 0.9742 - val_categorical_accuracy: 0.7196\n",
      "Epoch 4/100\n",
      "938/938 [==============================] - 262s 279ms/step - loss: 0.2374 - categorical_accuracy: 0.9190 - val_loss: 0.9478 - val_categorical_accuracy: 0.7280\n",
      "Epoch 5/100\n",
      "938/938 [==============================] - 259s 277ms/step - loss: 0.2252 - categorical_accuracy: 0.9231 - val_loss: 0.9729 - val_categorical_accuracy: 0.7254\n",
      "Epoch 6/100\n",
      "938/938 [==============================] - 252s 269ms/step - loss: 0.2205 - categorical_accuracy: 0.9261 - val_loss: 1.0321 - val_categorical_accuracy: 0.7106\n",
      "Epoch 7/100\n",
      " 25/938 [..............................] - ETA: 3:36 - loss: 0.2323 - categorical_accuracy: 0.9312"
     ]
    }
   ],
   "source": [
    "\n",
    "# 减小学习率\n",
    "model = InitialiazeModel(lr=0.001)\n",
    "weights_path_name = \"model_weight\\\\alex\\\\alex{epoch:02d}+24.hdf5\"\n",
    "\n",
    "#权重\n",
    "weights = './model_weight/alex/alex19.hdf5'\n",
    "model.load_weights(weights)\n",
    "    \n",
    "# 试试 adam\n",
    "callbacks = [ModelCheckpoint(weights_path_name, monitor='val_loss', save_best_only=True, verbose=0,\n",
    "                                             save_weights_only=True),\n",
    "             EarlyStopping(monitor='val_loss', patience=5, verbose=0.001),\n",
    "             TensorBoard(log_dir='train_log\\\\Alex',update_freq='epoch'),\n",
    "             ReduceLROnPlateau(factor=0.5,\n",
    "                               patience=2, \n",
    "                              min_lr=0.001)]\n",
    "\n",
    "history2 = model.fit_generator(generator = train_it,\n",
    "                    validation_data = val_it,\n",
    "                    epochs = 100,\n",
    "                    steps_per_epoch=ceil(train_sample_num/ BATCH_SIZE),\n",
    "                    validation_steps=ceil(val_sample_num/ BATCH_SIZE),\n",
    "                   max_queue_size=20,\n",
    "                   callbacks=callbacks,\n",
    "                   verbose = 1)"
   ]
  }
 ],
 "metadata": {
  "kernelspec": {
   "display_name": "Python 3 (ipykernel)",
   "language": "python",
   "name": "python3"
  },
  "language_info": {
   "codemirror_mode": {
    "name": "ipython",
    "version": 3
   },
   "file_extension": ".py",
   "mimetype": "text/x-python",
   "name": "python",
   "nbconvert_exporter": "python",
   "pygments_lexer": "ipython3",
   "version": "3.8.3"
  }
 },
 "nbformat": 4,
 "nbformat_minor": 5
}
