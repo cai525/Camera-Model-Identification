{
 "cells": [
  {
   "cell_type": "code",
   "execution_count": 2,
   "id": "f9299aea-1a64-4a27-bb8a-4992fa02c2ce",
   "metadata": {},
   "outputs": [
    {
     "name": "stdout",
     "output_type": "stream",
     "text": [
      "30150\n"
     ]
    }
   ],
   "source": [
    "import os\n",
    "num = 0\n",
    "path = 'datasets\\\\Train'\n",
    "for c_type in os.listdir(path):\n",
    "    num += len(os.listdir(os.path.join(path,c_type)))\n",
    "print(num)"
   ]
  }
 ],
 "metadata": {
  "kernelspec": {
   "display_name": "Python 3 (ipykernel)",
   "language": "python",
   "name": "python3"
  },
  "language_info": {
   "codemirror_mode": {
    "name": "ipython",
    "version": 3
   },
   "file_extension": ".py",
   "mimetype": "text/x-python",
   "name": "python",
   "nbconvert_exporter": "python",
   "pygments_lexer": "ipython3",
   "version": "3.8.3"
  }
 },
 "nbformat": 4,
 "nbformat_minor": 5
}
